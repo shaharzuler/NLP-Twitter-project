{
 "cells": [
  {
   "cell_type": "code",
   "execution_count": 2,
   "metadata": {},
   "outputs": [],
   "source": [
    "\"\"\"\n",
    "@author: Shahar Zuler\n",
    "\"\"\"\n",
    "import pandas as pd     \n",
    "import re\n",
    "from nltk.corpus import stopwords \n",
    "import random\n",
    "from sklearn.externals import joblib\n",
    "\n",
    "\n",
    "def review_to_words( raw_review ):\n",
    "    ''' preproceccing the sentences'''\n",
    "    # Remove non-letters:        \n",
    "    letters_only = re.sub(\"[^a-zA-Z]\", \" \", raw_review) \n",
    "    # Convert to lower case, split into individual words\n",
    "    words = letters_only.lower().split()                             \n",
    "    # convert the stop words to a set\n",
    "    stops = set(stopwords.words(\"english\"))                  \n",
    "    # Remove stop words\n",
    "    meaningful_words = [w for w in words if not w in stops]  \n",
    "    # Join the words back into one string separated by space, nd return the result.\n",
    "    return( \" \".join( meaningful_words ))   \n",
    "\n",
    "\n",
    "model = joblib.load('SVMmodel2.pkl') \n",
    "vectorizer = joblib.load('vectorizer2.pkl')\n",
    "\n",
    "# reding the CSV file containing all tweets from the test set:\n",
    "train=pd.DataFrame.from_csv('ObTr_app.csv', encoding='cp1252')  \n",
    "\n"
   ]
  },
  {
   "cell_type": "code",
   "execution_count": 3,
   "metadata": {},
   "outputs": [],
   "source": [
    "# choose a random example: \n",
    "num=random.randint(0,len(train)-1) \n",
    "X=train['data_tweets'][num]\n",
    "\n",
    "#you can rewrite X manually to ***any tweet you like***. for example:\n",
    "#X='All across America people chose to get involved, get engaged and stand up. Each of us can make a difference, and all of us ought to try. So go keep changing the world in 2018.'\n",
    "print('The tweet: ')\n",
    "print(X)\n",
    "\n",
    "# preprocess the tweet:\n",
    "clean_review = review_to_words(X)\n",
    "\n",
    "# vectorize the tweet and make it an array:\n",
    "data_feature = vectorizer.transform([clean_review])\n",
    "data_feature = data_feature.toarray()\n",
    "\n",
    "\n"
   ]
  },
  {
   "cell_type": "code",
   "execution_count": null,
   "metadata": {},
   "outputs": [
    {
     "name": "stdout",
     "output_type": "stream",
     "text": [
      "please type T if you guess Trump and O if you guess Obama\n"
     ]
    }
   ],
   "source": [
    "print('please type T if you guess Trump and O if you guess Obama')\n",
    "your_guess = str(input()).lower()\n"
   ]
  },
  {
   "cell_type": "code",
   "execution_count": null,
   "metadata": {},
   "outputs": [],
   "source": [
    "# predict\n",
    "pred =model.predict(data_feature)[0]\n",
    "truth = train['data_labels'][num]\n",
    "\n",
    "# some semanthics:\n",
    "flag = 1\n",
    "if your_guess == 't':\n",
    "    guess = 0\n",
    "elif your_guess == 'o':\n",
    "    guess = 1\n",
    "else:\n",
    "    print('Please retype only T or O above.')\n",
    "    flag = 0\n",
    "\n",
    "defined_guess = 'Trump' if your_guess == 't' else 'Obama'\n",
    "defined_pred = 'Trump' if pred == 0 else 'Obama'\n",
    "defined_truth = 'Trump' if truth == 0 else 'Obama'\n",
    "\n",
    "if flag == 1:\n",
    "    print('Your guess was: ' + defined_guess)\n",
    "    print ('My guess was: ' + defined_pred)\n",
    "    print('And the truth is :' + defined_truth)\n",
    "    \n"
   ]
  },
  {
   "cell_type": "code",
   "execution_count": null,
   "metadata": {},
   "outputs": [],
   "source": []
  }
 ],
 "metadata": {
  "kernelspec": {
   "display_name": "Python 3",
   "language": "python",
   "name": "python3"
  },
  "language_info": {
   "codemirror_mode": {
    "name": "ipython",
    "version": 3
   },
   "file_extension": ".py",
   "mimetype": "text/x-python",
   "name": "python",
   "nbconvert_exporter": "python",
   "pygments_lexer": "ipython3",
   "version": "3.6.3"
  }
 },
 "nbformat": 4,
 "nbformat_minor": 2
}
