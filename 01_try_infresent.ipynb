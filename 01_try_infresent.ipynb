{
 "cells": [
  {
   "cell_type": "code",
   "execution_count": null,
   "metadata": {},
   "outputs": [],
   "source": [
    "\n",
    "\"\"\"\n",
    "@author: Shahar Zuler\n",
    "\"\"\"\n",
    "import torch\n",
    "import nltk\n",
    "import pandas as pd\n",
    "import numpy as np\n",
    "from sklearn.cluster import KMeans \n",
    "nltk.download('punkt')\n",
    "\n",
    "def cosine(u, v):\n",
    "    return (np.dot(u, v) / (np.linalg.norm(u) * np.linalg.norm(v)))\n",
    "\n",
    "\n",
    "infersent = torch.load('infersent.allnli.pickle', map_location=lambda storage, loc: storage)\n",
    "glove_path='glove.840B.300d.txt'\n",
    "infersent.set_glove_path(glove_path)\n",
    "\n",
    "df2=pd.DataFrame.from_csv('ObTr1.csv', encoding='cp1252')\n",
    "sentences = df2[\"data_tweets\"].tolist()\n",
    "\n",
    "infersent.build_vocab(sentences, tokenize=True)\n",
    "infersent.update_vocab(sentences)\n",
    "embeddings = infersent.encode(sentences, tokenize=True)\n",
    "#infersent.visualize(sentences[100], tokenize=True)\n",
    "\n",
    "sim = np.zeros((len(sentences), len(sentences)))\n",
    "for i in range(len(sentences)):\n",
    "    for j in range(len(sentences)):\n",
    "        sim[i, j] = cosine( embeddings[i, :], embeddings[j, :] )\n",
    "\n",
    "km=KMeans()\n",
    "y_km_new= km.fit(embeddings)\n",
    "y=k_means(X=embeddings, n_clusters=2)\n",
    "y_pred = y[1]\n",
    "y2=np.zeros((400))\n",
    "y2[:200] = 1\n",
    "y3=dbscan(X=embeddings)\n",
    "\n",
    "acc=max(sum(y_pred==y2) / df2.shape[0], 1-sum(y_pred==y2) / df2.shape[0])\n",
    "\n",
    "print('DONE!')\n",
    "print('Accuracy is: ' + str (acc))\n"
   ]
  }
 ],
 "metadata": {
  "kernelspec": {
   "display_name": "Python 3",
   "language": "python",
   "name": "python3"
  },
  "language_info": {
   "codemirror_mode": {
    "name": "ipython",
    "version": 3
   },
   "file_extension": ".py",
   "mimetype": "text/x-python",
   "name": "python",
   "nbconvert_exporter": "python",
   "pygments_lexer": "ipython3",
   "version": "3.6.3"
  }
 },
 "nbformat": 4,
 "nbformat_minor": 2
}
